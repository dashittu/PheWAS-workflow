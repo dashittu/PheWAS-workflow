{
 "cells": [
  {
   "cell_type": "markdown",
   "id": "58c2ad23",
   "metadata": {},
   "source": [
    "# Running PheWAS on All of Us Workbench with dsub\n",
    "This notebook submits a `dsub` job on the All of Us Researcher Workbench to run the `PheTK.PheWAS()` step in a scalable, containerized GCP environment. NOTE: This is useful when running multiple PheWAS analyses and not a single PheWAS."
   ]
  },
  {
   "cell_type": "markdown",
   "id": "54b0786b",
   "metadata": {},
   "source": [
    "## Import Required Libraries"
   ]
  },
  {
   "cell_type": "code",
   "execution_count": null,
   "id": "8c6ae9be",
   "metadata": {},
   "outputs": [],
   "source": [
    "import os\n"
   ]
  },
  {
   "cell_type": "markdown",
   "id": "e83430d1",
   "metadata": {},
   "source": [
    "## Define dsub Job Submission Function"
   ]
  },
  {
   "cell_type": "code",
   "execution_count": null,
   "id": "d6a687d3",
   "metadata": {},
   "outputs": [],
   "source": [
    "def dsub_script(\n",
    "    machine_type,\n",
    "    envs,\n",
    "    in_params,\n",
    "    out_params,\n",
    "    boot_disk=100,\n",
    "    disk_size=150,\n",
    "    image=\"us.gcr.io/broad-dsp-gcr-public/terra-jupyter-aou:2.2.14\",\n",
    "    script=\"gs://fc-secure-453d144e-d2ed-4211-b422-1d3427c622c5/scripts/run_phewas.sh\",\n",
    "    preemptible=True\n",
    "):\n",
    "    \"\"\"\n",
    "    Submits a dsub job in All of Us Research Workbench for PheWAS analysis.\n",
    "    \"\"\"\n",
    "\n",
    "    dsub_user_name = os.getenv(\"OWNER_EMAIL\").split('@')[0]\n",
    "    user_name = os.getenv(\"OWNER_EMAIL\").split('@')[0].replace(\".\", \"-\")\n",
    "\n",
    "    dsub_cmd = \"dsub \"\n",
    "    dsub_cmd += \"--provider google-cls-v2 \"\n",
    "    dsub_cmd += '--machine-type \"{}\" '.format(machine_type)\n",
    "\n",
    "    if preemptible:\n",
    "        dsub_cmd += \"--preemptible \"\n",
    "\n",
    "    if \"c4\" in machine_type:\n",
    "        dsub_cmd += '--disk-type \"hyperdisk-balanced\" '\n",
    "    else:\n",
    "        dsub_cmd += '--disk-type \"pd-ssd\" '\n",
    "\n",
    "    dsub_cmd += \"--boot-disk-size {} \".format(boot_disk)\n",
    "    dsub_cmd += \"--disk-size {} \".format(disk_size)\n",
    "    dsub_cmd += '--user-project \"${GOOGLE_PROJECT}\" '\n",
    "    dsub_cmd += '--project \"${GOOGLE_PROJECT}\" '\n",
    "    dsub_cmd += '--image \"{}\" '.format(image)\n",
    "    dsub_cmd += '--network \"network\" '\n",
    "    dsub_cmd += '--subnetwork \"subnetwork\" '\n",
    "    dsub_cmd += '--service-account \"$(gcloud config get-value account)\" '\n",
    "    dsub_cmd += '--user \"{}\" '.format(dsub_user_name)\n",
    "    dsub_cmd += '--logging \"${WORKSPACE_BUCKET}/dsub/logs/{job-name}/{user-id}/$(date +'%Y%m%d')/{job-id}-{task-id}-{task-attempt}.log\" '\n",
    "    dsub_cmd += '--name \"{}\" '.format(machine_type)\n",
    "    dsub_cmd += '--env GOOGLE_PROJECT=\"${GOOGLE_PROJECT}\" '\n",
    "    dsub_cmd += '--script \"{}\" '.format(script)\n",
    "\n",
    "    for env_key, env_value in envs.items():\n",
    "        dsub_cmd += '--env {}=\"{}\" '.format(env_key, env_value)\n",
    "\n",
    "    for in_key, in_value in in_params.items():\n",
    "        dsub_cmd += '--input {}=\"{}\" '.format(in_key, in_value)\n",
    "\n",
    "    for out_key, out_value in out_params.items():\n",
    "        dsub_cmd += '--output {}=\"{}\" '.format(out_key, out_value)\n",
    "\n",
    "    print(\"Submitting dsub job...\")\n",
    "    print(dsub_cmd)\n",
    "    os.system(dsub_cmd)\n"
   ]
  },
  {
   "cell_type": "code",
   "execution_count": null,
   "id": "da76e877",
   "metadata": {},
   "outputs": [],
   "source": [
    "%%writefile run_phewas.sh\n",
    "#!/bin/bash\n",
    "set -e  # Exit immediately if any command fails\n",
    "\n",
    "# run_phewas.sh - executes PheTK.PheWAS from pre-extracted variant and phecode data\n",
    "\n",
    "python3 - <<EOF\n",
    "from PheTK.PheWAS import PheWAS\n",
    "\n",
    "# Define the cohort, phecode_count, and phewas_result file_path\n",
    "COHORT=\"gs://your-bucket/cohort_name.csv\",\n",
    "PHECODE_COUNTS=\"gs://your-bucket/phecode_count.csv\"\n",
    "PHEWAS_RESULTS=\"gs://your-bucket/phewas_results.csv\"\n",
    "\n",
    "\n",
    "phewas = PheWAS(\n",
    "    phecode_version=\"X\",\n",
    "    phecode_count_csv_path=\"${PHECODE_COUNTS}\",\n",
    "    cohort_csv_path=\"${COHORT}\",\n",
    "    sex_at_birth_col=\"${SEX_COL}\",\n",
    "    male_as_one=True,\n",
    "    covariate_cols=\"${COVARIATES}\".split(\",\"),\n",
    "    independent_variable_of_interest=\"case\",\n",
    "    min_cases=10,\n",
    "    min_phecode_count=2,\n",
    "    output_file_name=\"${PHEWAS_RESULTS}\"\n",
    ")\n",
    "phewas.run()\n",
    "EOF\n"
   ]
  },
  {
   "cell_type": "markdown",
   "id": "4590986c",
   "metadata": {},
   "source": [
    "## Example: Submit dsub Job for PheWAS"
   ]
  },
  {
   "cell_type": "code",
   "execution_count": null,
   "id": "0395151b",
   "metadata": {},
   "outputs": [],
   "source": [
    "# Define example parameters\n",
    "MACHINE_TYPE = \"c4-standard-8\"\n",
    "SCRIPT_PATH = \"gs://your-bucket/scripts/run_phewas.sh\"  # Update with your script path\n",
    "\n",
    "env_vars = {\n",
    "    \"SNP_ID\": \"rs78378222\",\n",
    "    \"SEX_COL\": \"sex_at_birth\",\n",
    "    \"COVARIATES\": \"age_at_last_event,sex_at_birth,pc0,pc1,pc2,pc3,pc4,pc5,pc6,pc7,pc8,pc9\"\n",
    "}\n",
    "\n",
    "input_params = {}\n",
    "\n",
    "output_params = {\n",
    "    \"PHEWAS_RESULTS\": \"gs://your-bucket/phewas_results.csv\"\n",
    "}\n",
    "\n",
    "# Submit the job\n",
    "dsub_script(\n",
    "    machine_type=MACHINE_TYPE,\n",
    "    envs=env_vars,\n",
    "    in_params=input_params,\n",
    "    out_params=output_params,\n",
    "    image=\"phetk/phetk:0.1.47\",\n",
    "    script=SCRIPT_PATH,\n",
    "    preemptible=True\n",
    ")\n",
    "\n",
    "print(f\"Submitted job for SNP: {env_vars['SNP_ID']}\")\n"
   ]
  }
 ],
 "metadata": {
  "kernelspec": {
   "display_name": "Python 3 (ipykernel)",
   "language": "python",
   "name": "python3"
  },
  "language_info": {
   "codemirror_mode": {
    "name": "ipython",
    "version": 3
   },
   "file_extension": ".py",
   "mimetype": "text/x-python",
   "name": "python",
   "nbconvert_exporter": "python",
   "pygments_lexer": "ipython3",
   "version": "3.11.5"
  }
 },
 "nbformat": 4,
 "nbformat_minor": 5
}
