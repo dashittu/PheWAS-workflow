{
 "cells": [
  {
   "cell_type": "markdown",
   "id": "ec9b6b80",
   "metadata": {},
   "source": [
    "# 🧬 PheWAS Pipeline with PheTK and Hail-Extracted Variant Data\n",
    "This notebook demonstrates how to perform a Phenome-Wide Association Study (PheWAS) using the PheTK toolkit, starting from a variant file extracted using Hail from the All of Us dataset."
   ]
  },
  {
   "cell_type": "code",
   "execution_count": null,
   "id": "dd1d76d0",
   "metadata": {},
   "outputs": [],
   "source": [
    "# Install PheTK but skip if already installed\n",
    "\n",
    "!pip install PheTK --upgrade"
   ]
  },
  {
   "cell_type": "markdown",
   "id": "9b560f24",
   "metadata": {},
   "source": [
    "## Import Libraries"
   ]
  },
  {
   "cell_type": "code",
   "execution_count": null,
   "id": "6392102d",
   "metadata": {},
   "outputs": [],
   "source": [
    "import pandas as pd\n",
    "from PheTK.Cohort import Cohort\n",
    "from PheTK.Phecode import Phecode\n",
    "from PheTK.PheWAS import PheWAS\n",
    "from PheTK.Plot import Plot"
   ]
  },
  {
   "cell_type": "markdown",
   "id": "8da58391",
   "metadata": {},
   "source": [
    "## Parameters"
   ]
  },
  {
   "cell_type": "code",
   "execution_count": null,
   "id": "71a187fc",
   "metadata": {},
   "outputs": [],
   "source": [
    "# Set file paths and parameters\n",
    "bucket_path = \"your/local/or/gcs/path\"  # Replace with your actual path\n",
    "SNP_ID = \"rs75853687\"\n",
    "\n",
    "variant_file = f\"{bucket_path}/{SNP_ID}_genotypes.tsv\"\n",
    "phecode_output = f\"{bucket_path}/filtered_phecode_counts.csv\"\n",
    "cohort_with_covariates = f\"{bucket_path}/{SNP_ID}_cohort_with_covariates.csv\"\n",
    "phewas_results = f\"{bucket_path}/{SNP_ID}_phewas_results.csv\"\n"
   ]
  },
  {
   "cell_type": "markdown",
   "id": "a54444ae",
   "metadata": {},
   "source": [
    "## Step 1: Generate Phecode Count Table"
   ]
  },
  {
   "cell_type": "code",
   "execution_count": null,
   "id": "b0cc50b7",
   "metadata": {},
   "outputs": [],
   "source": [
    "phecode = Phecode(platform=\"aou\")\n",
    "phecode.count_phecode(\n",
    "    phecode_version=\"X\",\n",
    "    icd_version=\"US\",\n",
    "    phecode_map_file_path=None,\n",
    "    output_file_name=phecode_output\n",
    ")"
   ]
  },
  {
   "cell_type": "markdown",
   "id": "b15e0443",
   "metadata": {},
   "source": [
    "## Step 2: Load Variant File Extracted with Hail"
   ]
  },
  {
   "cell_type": "code",
   "execution_count": null,
   "id": "b43494b4",
   "metadata": {},
   "outputs": [],
   "source": [
    "genotypes_df = pd.read_csv(variant_file, sep='\\t', dtype={'s': str})\n",
    "genotypes_df = genotypes_df.rename(columns={'s': 'person_id', 'n_alt': 'case'})\n",
    "genotypes_df = genotypes_df.drop(columns=['AD'], errors='ignore')\n",
    "genotypes_df.to_csv(f\"{bucket_path}/{SNP_ID}_cohort.csv\", index=False)\n"
   ]
  },
  {
   "cell_type": "markdown",
   "id": "10ad4d7b",
   "metadata": {},
   "source": [
    "## Step 3: Add Covariates"
   ]
  },
  {
   "cell_type": "code",
   "execution_count": null,
   "id": "ce83ff32",
   "metadata": {},
   "outputs": [],
   "source": [
    "cohort = Cohort(platform=\"aou\", aou_db_version=8)\n",
    "cohort.add_covariates(\n",
    "    cohort_csv_path=f\"{bucket_path}/{SNP_ID}_cohort.csv\",\n",
    "    natural_age=False,\n",
    "    age_at_last_event=True,\n",
    "    sex_at_birth=True,\n",
    "    genetic_ancestry=True,\n",
    "    first_n_pcs=10,\n",
    "    drop_nulls=True,\n",
    "    output_file_name=cohort_with_covariates\n",
    ")"
   ]
  },
  {
   "cell_type": "markdown",
   "id": "26d2f9f4",
   "metadata": {},
   "source": [
    "## Step 4: Run PheWAS"
   ]
  },
  {
   "cell_type": "code",
   "execution_count": null,
   "id": "78b3a49a",
   "metadata": {},
   "outputs": [],
   "source": [
    "phewas = PheWAS(\n",
    "    phecode_version=\"X\",\n",
    "    phecode_count_csv_path=phecode_output,\n",
    "    cohort_csv_path=cohort_with_covariates,\n",
    "    sex_at_birth_col=\"sex_at_birth\",\n",
    "    male_as_one=True,\n",
    "    covariate_cols=[\n",
    "        \"age_at_last_event\", \"sex_at_birth\",\n",
    "        \"pc0\", \"pc1\", \"pc2\", \"pc3\", \"pc4\", \"pc5\", \"pc6\", \"pc7\", \"pc8\", \"pc9\"\n",
    "    ],\n",
    "    independent_variable_of_interest=\"case\",\n",
    "    min_cases=10,\n",
    "    min_phecode_count=2,\n",
    "    output_file_name=phewas_results\n",
    ")\n",
    "phewas.run()\n"
   ]
  },
  {
   "cell_type": "markdown",
   "id": "fedd96eb",
   "metadata": {},
   "source": [
    "## Visualize Results"
   ]
  },
  {
   "cell_type": "code",
   "execution_count": null,
   "id": "6073d728",
   "metadata": {},
   "outputs": [],
   "source": [
    "Plot.manhattan(phewas_results, pval_col=\"pval\", title=f\"PheWAS Manhattan Plot for {SNP_ID}\")\n"
   ]
  }
 ],
 "metadata": {
  "kernelspec": {
   "display_name": "Python 3 (ipykernel)",
   "language": "python",
   "name": "python3"
  },
  "language_info": {
   "codemirror_mode": {
    "name": "ipython",
    "version": 3
   },
   "file_extension": ".py",
   "mimetype": "text/x-python",
   "name": "python",
   "nbconvert_exporter": "python",
   "pygments_lexer": "ipython3",
   "version": "3.11.5"
  }
 },
 "nbformat": 4,
 "nbformat_minor": 5
}
