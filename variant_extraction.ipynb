{
 "cells": [
  {
   "cell_type": "markdown",
   "id": "0e3aac74",
   "metadata": {},
   "source": [
    "# Variant Extraction from Hail MatrixTable (All of Us Data)\n",
    "This notebook extracts a single variant from a Hail MatrixTable using genomic coordinates and exports it for downstream PheWAS analysis."
   ]
  },
  {
   "cell_type": "markdown",
   "id": "83121cbd",
   "metadata": {},
   "source": [
    "## Import Libraries and Initialize Hail"
   ]
  },
  {
   "cell_type": "code",
   "execution_count": null,
   "id": "ddf2c140",
   "metadata": {},
   "outputs": [],
   "source": [
    "import pandas as pd\n",
    "import hail as hl\n",
    "import os"
   ]
  },
  {
   "cell_type": "code",
   "execution_count": null,
   "id": "ab2de757",
   "metadata": {},
   "outputs": [],
   "source": [
    "# Set display options\n",
    "pd.set_option('display.max_columns', None)"
   ]
  },
  {
   "cell_type": "code",
   "execution_count": null,
   "id": "d290f9cf",
   "metadata": {},
   "outputs": [],
   "source": [
    "# Initialize Hail with GRCh38 reference\n",
    "hl.init(default_reference='GRCh38', idempotent=True)"
   ]
  },
  {
   "cell_type": "markdown",
   "id": "6f1ba72f",
   "metadata": {},
   "source": [
    "## Set Workspace Paths and Load MatrixTable\n",
    "This uses the All of Us hail matrix table for illustration"
   ]
  },
  {
   "cell_type": "code",
   "execution_count": null,
   "id": "86155c20",
   "metadata": {},
   "outputs": [],
   "source": [
    "# Set bucket environment\n",
    "bucket = os.getenv('WORKSPACE_BUCKET')\n",
    "\n",
    "# Path to the All of Us WGS MatrixTable\n",
    "wgs_path = \"gs://fc-aou-datasets-controlled/v8/wgs/short_read/snpindel/exome/splitMT/hail.mt\"\n",
    "wgs = hl.read_matrix_table(wgs_path)\n"
   ]
  },
  {
   "cell_type": "markdown",
   "id": "307f1b1f",
   "metadata": {},
   "source": [
    "## Define Variant Extraction Function"
   ]
  },
  {
   "cell_type": "code",
   "execution_count": null,
   "id": "8841d446",
   "metadata": {},
   "outputs": [],
   "source": [
    "def variant_extraction(var_pos, ref_allele, alt_allele, dbsnp_id, output_filename):\n",
    "    \"\"\"\n",
    "    This function extract a single variant from the Hail MatrixTable and export it as TSV format.\n",
    "\n",
    "    Parameters:\n",
    "    - var_pos (str): Genomic position, e.g., 'chr17:7579472'\n",
    "    - ref_allele (str): Reference allele\n",
    "    - alt_allele (str): Alternate allele\n",
    "    - dbsnp_id (str): rsID of the variant\n",
    "    - output_filename (str): Name of the exported TSV file\n",
    "    \"\"\"\n",
    "    \n",
    "    print(f\"Extracting variant at {var_pos} with alleles [{ref_allele}, {alt_allele}]\")\n",
    "\n",
    "    variant_ht = (\n",
    "        wgs\n",
    "        .filter_rows(wgs.locus == hl.parse_locus(var_pos))\n",
    "        .select_rows()\n",
    "        .entries()\n",
    "    )\n",
    "    \n",
    "    variant_ht1 = (\n",
    "        variant_ht\n",
    "        .select(variant_ht.GT, variant_ht.AD)\n",
    "        .annotate(n_alt=variant_ht.GT.n_alt_alleles())\n",
    "    )\n",
    "\n",
    "    variant_ht1 = variant_ht1.filter(variant_ht1.alleles == hl.array([ref_allele, alt_allele]))\n",
    "\n",
    "    print(\"Genotype Summary:\")\n",
    "\n",
    "    variant_ht1.group_by(variant_ht1.locus, \n",
    "                         variant_ht1.alleles, \n",
    "                         variant_ht1.GT).aggregate(n=hl.agg.count()).show(10)\n",
    "\n",
    "    output_path = f\"{bucket}/{output_filename}.tsv\"\n",
    "    \n",
    "    variant_ht1.filter(hl.is_defined(variant_ht1.GT)).export(output_path)\n",
    "    \n",
    "    print(f\"Exported to: {output_path}\")\n"
   ]
  },
  {
   "cell_type": "markdown",
   "id": "e46cd60c",
   "metadata": {},
   "source": [
    "## Run Variant Extraction for a Specific Variant"
   ]
  },
  {
   "cell_type": "code",
   "execution_count": null,
   "id": "b6d6a8ba",
   "metadata": {},
   "outputs": [],
   "source": [
    "# Example: Extract TP53 variant rs78378222\n",
    "variant_extraction(\n",
    "    var_pos='chr17:7579472',\n",
    "    ref_allele='C',\n",
    "    alt_allele='T',\n",
    "    dbsnp_id='rs78378222',\n",
    "    output_filename='TP53_variant'\n",
    ")\n"
   ]
  }
 ],
 "metadata": {
  "kernelspec": {
   "display_name": "Python 3 (ipykernel)",
   "language": "python",
   "name": "python3"
  },
  "language_info": {
   "codemirror_mode": {
    "name": "ipython",
    "version": 3
   },
   "file_extension": ".py",
   "mimetype": "text/x-python",
   "name": "python",
   "nbconvert_exporter": "python",
   "pygments_lexer": "ipython3",
   "version": "3.11.5"
  }
 },
 "nbformat": 4,
 "nbformat_minor": 5
}
